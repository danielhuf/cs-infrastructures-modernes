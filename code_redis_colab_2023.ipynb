{
  "nbformat": 4,
  "nbformat_minor": 0,
  "metadata": {
    "colab": {
      "provenance": []
    },
    "kernelspec": {
      "name": "python3",
      "display_name": "Python 3"
    },
    "language_info": {
      "name": "python"
    }
  },
  "cells": [
    {
      "cell_type": "markdown",
      "source": [
        "Install Redis and Redis python client:\n",
        "\n"
      ],
      "metadata": {
        "id": "Cc4rtPW3x3lp"
      }
    },
    {
      "cell_type": "code",
      "execution_count": 60,
      "metadata": {
        "id": "9hR-YodOenoM",
        "colab": {
          "base_uri": "https://localhost:8080/"
        },
        "outputId": "3912c49c-b6d9-4e86-ce94-a7df06fa58ac"
      },
      "outputs": [
        {
          "output_type": "stream",
          "name": "stdout",
          "text": [
            "Requirement already satisfied: redis in /usr/local/lib/python3.10/dist-packages (5.0.1)\n",
            "Requirement already satisfied: async-timeout>=4.0.2 in /usr/local/lib/python3.10/dist-packages (from redis) (4.0.3)\n"
          ]
        }
      ],
      "source": [
        "%pip install redis"
      ]
    },
    {
      "cell_type": "markdown",
      "source": [
        "Start Redis Server"
      ],
      "metadata": {
        "id": "9IzJW3cShFZi"
      }
    },
    {
      "cell_type": "code",
      "source": [
        "import redis\n",
        "r = redis.Redis(host='localhost', port=6379, decode_responses=True)"
      ],
      "metadata": {
        "id": "jBRRLEOuSDxk"
      },
      "execution_count": 61,
      "outputs": []
    },
    {
      "cell_type": "markdown",
      "source": [
        "Check connection to server"
      ],
      "metadata": {
        "id": "4BnwUEVPMJQj"
      }
    },
    {
      "cell_type": "code",
      "source": [
        "\n",
        "r = redis.Redis(\n",
        "  host='redis-16081.c274.us-east-1-3.ec2.cloud.redislabs.com',\n",
        "  port=16081,\n",
        "  password='*****')\n"
      ],
      "metadata": {
        "id": "CAn5ceOtMIjL"
      },
      "execution_count": 62,
      "outputs": []
    },
    {
      "cell_type": "code",
      "source": [
        "r.ping()"
      ],
      "metadata": {
        "colab": {
          "base_uri": "https://localhost:8080/"
        },
        "id": "bUN0H2HAbXk8",
        "outputId": "07670546-750f-4995-c0cd-28f3f1d3e7ec"
      },
      "execution_count": 63,
      "outputs": [
        {
          "output_type": "execute_result",
          "data": {
            "text/plain": [
              "True"
            ]
          },
          "metadata": {},
          "execution_count": 63
        }
      ]
    },
    {
      "cell_type": "markdown",
      "source": [
        "#Redis - an introduction\n",
        "\n",
        "We want to use Redis in order to store data for a software that dynamically proposes a song to an inscribed user. The system relies on the history of played songs per genre.\n",
        "\n",
        "We want to model data using Redis data structures.\n",
        "\n",
        "We will use the command line interface to understand the basic data structures.\n",
        "\n",
        "Please, refer to the official documentation for a complete reference and the full list of the com- mands: https://redis.io/commands.\n"
      ],
      "metadata": {
        "id": "lvWnPsWwx16W"
      }
    },
    {
      "cell_type": "markdown",
      "source": [
        "## Training\n",
        "\n",
        "In this part of the class you are just going to train in the usage of Redis.\n",
        "\n",
        "Redis provides two main operations <code> set </code> to store data and <code> get </code> to retrieve data from the databases.\n",
        "\n",
        "A string can be stored using the following syntax:"
      ],
      "metadata": {
        "id": "rQJHIotNAsef"
      }
    },
    {
      "cell_type": "code",
      "source": [
        "r.set('my key', 'my string to store')"
      ],
      "metadata": {
        "colab": {
          "base_uri": "https://localhost:8080/"
        },
        "id": "SXG3sheVt5y2",
        "outputId": "21d4594b-4c51-488a-b16f-e87fef1b6f77"
      },
      "execution_count": 64,
      "outputs": [
        {
          "output_type": "execute_result",
          "data": {
            "text/plain": [
              "True"
            ]
          },
          "metadata": {},
          "execution_count": 64
        }
      ]
    },
    {
      "cell_type": "markdown",
      "source": [
        "\n",
        "To retrieve a value given the key:\n"
      ],
      "metadata": {
        "id": "CLvNCBtwhN8J"
      }
    },
    {
      "cell_type": "code",
      "source": [
        "r.get('my key')\n",
        "\n"
      ],
      "metadata": {
        "colab": {
          "base_uri": "https://localhost:8080/"
        },
        "id": "Pq2bpLfwerxN",
        "outputId": "8f275e40-4e09-4a9c-efe6-bcb94380e5cd"
      },
      "execution_count": 65,
      "outputs": [
        {
          "output_type": "execute_result",
          "data": {
            "text/plain": [
              "b'my string to store'"
            ]
          },
          "metadata": {},
          "execution_count": 65
        }
      ]
    },
    {
      "cell_type": "markdown",
      "source": [
        "If the string is an integer, it can be modified with the command <code>incr()</code>, <code>incrby()</code>, <code>decr()</code>, and <code>decrby()</code>:\n"
      ],
      "metadata": {
        "id": "fl-zUaBfC_h_"
      }
    },
    {
      "cell_type": "code",
      "source": [
        "r.set(\"my_counter\", 0)\n",
        "\n",
        "r.incr(\"my_counter\")\n",
        "\n",
        "r.incrby(\"my_counter\",12)\n",
        "\n",
        "r.decr(\"my_counter\")\n",
        "\n",
        "r.decrby(\"my_counter\",10)\n",
        "\n",
        "r.get(\"my_counter\")"
      ],
      "metadata": {
        "colab": {
          "base_uri": "https://localhost:8080/"
        },
        "id": "1UdJIdxnDX8R",
        "outputId": "008958f5-10f3-42cf-8455-634dfd51ca08"
      },
      "execution_count": 66,
      "outputs": [
        {
          "output_type": "execute_result",
          "data": {
            "text/plain": [
              "b'2'"
            ]
          },
          "metadata": {},
          "execution_count": 66
        }
      ]
    },
    {
      "cell_type": "markdown",
      "source": [
        "Remember the fact that in Redis all the keys share the same key-space.\n"
      ],
      "metadata": {
        "id": "sNU3wgX1FUuW"
      }
    },
    {
      "cell_type": "markdown",
      "source": [
        "      userid1        Alice     \n",
        "      userid2        Bob    \n",
        "      userid3        TomFoo35Paris   \n",
        "      counter        3   "
      ],
      "metadata": {
        "id": "qi-XAeEaFdEi"
      }
    },
    {
      "cell_type": "markdown",
      "source": [
        "# Exercises\n",
        "\n",
        "## Exercise 1\n",
        "\n",
        "Verify, using the command GET,if you have already stored a key-value pair for the user userid1 (that is your key)."
      ],
      "metadata": {
        "id": "QwIlczy4EPSI"
      }
    },
    {
      "cell_type": "code",
      "source": [
        "r.get('userid1')"
      ],
      "metadata": {
        "id": "3min8JC7Fos9",
        "colab": {
          "base_uri": "https://localhost:8080/"
        },
        "outputId": "47c4b804-0515-4353-9b96-c02e37e542eb"
      },
      "execution_count": 67,
      "outputs": [
        {
          "output_type": "execute_result",
          "data": {
            "text/plain": [
              "b'coucoucoucou'"
            ]
          },
          "metadata": {},
          "execution_count": 67
        }
      ]
    },
    {
      "cell_type": "markdown",
      "source": [
        "Store a key-value for <code>userid1</code> and put as value your first-name."
      ],
      "metadata": {
        "id": "Iw48QW4nEjKk"
      }
    },
    {
      "cell_type": "code",
      "source": [
        "r.set('userid1', 'Tomislav')"
      ],
      "metadata": {
        "colab": {
          "base_uri": "https://localhost:8080/"
        },
        "id": "vwD02Dkr_1Jc",
        "outputId": "6b9fb187-7b38-4024-d9a2-bac4dae8aafb"
      },
      "execution_count": 68,
      "outputs": [
        {
          "output_type": "execute_result",
          "data": {
            "text/plain": [
              "True"
            ]
          },
          "metadata": {},
          "execution_count": 68
        }
      ]
    },
    {
      "cell_type": "markdown",
      "source": [
        "Add to the key-value <code>userid1</code> your last-name (as a concatenation of strings)."
      ],
      "metadata": {
        "id": "Qqtps4qmFuBl"
      }
    },
    {
      "cell_type": "code",
      "source": [
        "r.set('userid1', 'Tomi' + 'slav')"
      ],
      "metadata": {
        "id": "ue11nEs5FzhM",
        "colab": {
          "base_uri": "https://localhost:8080/"
        },
        "outputId": "1b68e666-9b4b-4dd4-a40a-300c40647abc"
      },
      "execution_count": 69,
      "outputs": [
        {
          "output_type": "execute_result",
          "data": {
            "text/plain": [
              "True"
            ]
          },
          "metadata": {},
          "execution_count": 69
        }
      ]
    },
    {
      "cell_type": "markdown",
      "source": [
        "Verify if you have now a key-value for the user <code>userid1</code> and pay attention to the value."
      ],
      "metadata": {
        "id": "fyCT0AMKFz20"
      }
    },
    {
      "cell_type": "code",
      "source": [
        "r.get('userid1')"
      ],
      "metadata": {
        "id": "kWvhz7WPF69V",
        "colab": {
          "base_uri": "https://localhost:8080/"
        },
        "outputId": "481031fc-3cfe-4fea-9999-ae6fbbf36f71"
      },
      "execution_count": 70,
      "outputs": [
        {
          "output_type": "execute_result",
          "data": {
            "text/plain": [
              "b'Tomislav'"
            ]
          },
          "metadata": {},
          "execution_count": 70
        }
      ]
    },
    {
      "cell_type": "markdown",
      "source": [
        "Run the following two commands and comment the result."
      ],
      "metadata": {
        "id": "R4qLHo9CF9kg"
      }
    },
    {
      "cell_type": "code",
      "source": [
        "r.set(\"usderid1\",\"Bob\")\n",
        "\n",
        "r.get(\"usderid1\")"
      ],
      "metadata": {
        "colab": {
          "base_uri": "https://localhost:8080/"
        },
        "id": "lsRiv6-DF-P6",
        "outputId": "9b91925c-8ed3-4677-9e62-36d88e504a34"
      },
      "execution_count": 71,
      "outputs": [
        {
          "output_type": "execute_result",
          "data": {
            "text/plain": [
              "b'Bob'"
            ]
          },
          "metadata": {},
          "execution_count": 71
        }
      ]
    },
    {
      "cell_type": "markdown",
      "source": [
        "Verify, using another command, if a key-value for the user <code>userid<code> exists."
      ],
      "metadata": {
        "id": "arK4hz7ZGQmJ"
      }
    },
    {
      "cell_type": "code",
      "source": [
        "if r.get('userid'):\n",
        "  print('it exists!')\n",
        "else:\n",
        "  print('it does not exists :/')"
      ],
      "metadata": {
        "id": "7QcpeqteGPyF",
        "colab": {
          "base_uri": "https://localhost:8080/"
        },
        "outputId": "8bcc0970-9eab-4baa-f041-a9c2edfc71d9"
      },
      "execution_count": 72,
      "outputs": [
        {
          "output_type": "stream",
          "name": "stdout",
          "text": [
            "it does not exists :/\n"
          ]
        }
      ]
    },
    {
      "cell_type": "markdown",
      "source": [
        "Run the following command and comment the result."
      ],
      "metadata": {
        "id": "C-D4yb-yGUUH"
      }
    },
    {
      "cell_type": "code",
      "source": [
        "r.get(\"userID1\")"
      ],
      "metadata": {
        "id": "CLjGj2VQGXt7",
        "colab": {
          "base_uri": "https://localhost:8080/"
        },
        "outputId": "05e96ec6-97e2-46ce-b58e-050048b41832"
      },
      "execution_count": 73,
      "outputs": [
        {
          "output_type": "execute_result",
          "data": {
            "text/plain": [
              "b'whassup'"
            ]
          },
          "metadata": {},
          "execution_count": 73
        }
      ]
    },
    {
      "cell_type": "markdown",
      "source": [
        "tore the user <code>userid2</code> and its first-name (<code>Jack</code>) if the key <code>userid2</code> does not exists in the database. Use only one command."
      ],
      "metadata": {
        "id": "RBp4qdsYGepv"
      }
    },
    {
      "cell_type": "code",
      "source": [
        "r.setnx('userid2', 'Jack')"
      ],
      "metadata": {
        "id": "po_Kd4tvGpF4",
        "colab": {
          "base_uri": "https://localhost:8080/"
        },
        "outputId": "39b26109-07cd-4e1b-8197-46addc9672c6"
      },
      "execution_count": 74,
      "outputs": [
        {
          "output_type": "execute_result",
          "data": {
            "text/plain": [
              "True"
            ]
          },
          "metadata": {},
          "execution_count": 74
        }
      ]
    },
    {
      "cell_type": "markdown",
      "source": [
        " Delete the user <code>userid2</code>."
      ],
      "metadata": {
        "id": "Fton74loGqRo"
      }
    },
    {
      "cell_type": "code",
      "source": [
        "r.delete('userid2')"
      ],
      "metadata": {
        "colab": {
          "base_uri": "https://localhost:8080/"
        },
        "id": "EmwtCX6AA6Oe",
        "outputId": "8472fed8-5527-4386-fc58-ea62412497e1"
      },
      "execution_count": 75,
      "outputs": [
        {
          "output_type": "execute_result",
          "data": {
            "text/plain": [
              "1"
            ]
          },
          "metadata": {},
          "execution_count": 75
        }
      ]
    },
    {
      "cell_type": "markdown",
      "source": [
        "Store the counter of the user keys in a variable <code>counter</code>. The initial value of your counter is <code>0</code>."
      ],
      "metadata": {
        "id": "qHHtnK4fHVw6"
      }
    },
    {
      "cell_type": "code",
      "source": [
        "r.set('counter', len(r.keys()))"
      ],
      "metadata": {
        "id": "ZqMTSjtfHeX_",
        "colab": {
          "base_uri": "https://localhost:8080/"
        },
        "outputId": "04cb2ec0-8007-41e3-b33e-ab78906687ed"
      },
      "execution_count": 76,
      "outputs": [
        {
          "output_type": "execute_result",
          "data": {
            "text/plain": [
              "True"
            ]
          },
          "metadata": {},
          "execution_count": 76
        }
      ]
    },
    {
      "cell_type": "markdown",
      "source": [
        "# Exercise 2\n",
        "\n",
        "A List in Redis is simply a sequence of strings, sorted by insertion order, and identified by a key.\n",
        "\n"
      ],
      "metadata": {
        "id": "zqbD5u6fHdvX"
      }
    },
    {
      "cell_type": "code",
      "source": [
        "r.lpush('my_key',\"my value\")\n"
      ],
      "metadata": {
        "colab": {
          "base_uri": "https://localhost:8080/"
        },
        "id": "maj8EcXqHndd",
        "outputId": "02132a71-3d81-4989-f2a3-e2103afc1202"
      },
      "execution_count": 77,
      "outputs": [
        {
          "output_type": "execute_result",
          "data": {
            "text/plain": [
              "16"
            ]
          },
          "metadata": {},
          "execution_count": 77
        }
      ]
    },
    {
      "cell_type": "markdown",
      "source": [
        "Elements can be added at the tail:"
      ],
      "metadata": {
        "id": "G_LCf74nIptv"
      }
    },
    {
      "cell_type": "code",
      "source": [
        "r.rpush('my_key',\"last element\")"
      ],
      "metadata": {
        "colab": {
          "base_uri": "https://localhost:8080/"
        },
        "id": "Ro5y10STIuVn",
        "outputId": "d3274f8c-1f74-4884-b4e7-626539900da9"
      },
      "execution_count": 78,
      "outputs": [
        {
          "output_type": "execute_result",
          "data": {
            "text/plain": [
              "17"
            ]
          },
          "metadata": {},
          "execution_count": 78
        }
      ]
    },
    {
      "cell_type": "markdown",
      "source": [
        "Elements can be inserted in the middle:\n"
      ],
      "metadata": {
        "id": "qhs_gyOnI1lG"
      }
    },
    {
      "cell_type": "code",
      "source": [
        "r.linsert(\"my_key\",\"BEFORE\",'last element',\"new before last\")\n",
        "\n"
      ],
      "metadata": {
        "colab": {
          "base_uri": "https://localhost:8080/"
        },
        "id": "QBCHz-JPI2Zs",
        "outputId": "66353f03-f95c-47f8-c976-023871c6aea9"
      },
      "execution_count": 79,
      "outputs": [
        {
          "output_type": "execute_result",
          "data": {
            "text/plain": [
              "18"
            ]
          },
          "metadata": {},
          "execution_count": 79
        }
      ]
    },
    {
      "cell_type": "markdown",
      "source": [
        "Element can be retrieved from the head:"
      ],
      "metadata": {
        "id": "-Qed5o5JJ0P1"
      }
    },
    {
      "cell_type": "code",
      "source": [
        "r.lpop(\"my_key\")"
      ],
      "metadata": {
        "colab": {
          "base_uri": "https://localhost:8080/"
        },
        "id": "4_QhhkB_J34Q",
        "outputId": "1c3004a0-812f-45ff-f1fa-4ee067b33815"
      },
      "execution_count": 80,
      "outputs": [
        {
          "output_type": "execute_result",
          "data": {
            "text/plain": [
              "b'my value'"
            ]
          },
          "metadata": {},
          "execution_count": 80
        }
      ]
    },
    {
      "cell_type": "markdown",
      "source": [
        "Or from the tail:\n"
      ],
      "metadata": {
        "id": "MfVsbX-wJ_r8"
      }
    },
    {
      "cell_type": "code",
      "source": [
        "r.rpop(\"my_key\")"
      ],
      "metadata": {
        "id": "NkbqHKZOKECP",
        "colab": {
          "base_uri": "https://localhost:8080/"
        },
        "outputId": "dfb5ccd4-eaf9-4932-b66d-cfd4491fdda5"
      },
      "execution_count": 81,
      "outputs": [
        {
          "output_type": "execute_result",
          "data": {
            "text/plain": [
              "b'last element'"
            ]
          },
          "metadata": {},
          "execution_count": 81
        }
      ]
    },
    {
      "cell_type": "markdown",
      "source": [
        "To access all the elements in a list in a given range of indexes:\n"
      ],
      "metadata": {
        "id": "4fjhTarnKK3j"
      }
    },
    {
      "cell_type": "code",
      "source": [
        "r.lrange(\"my_key\",0,-1)\n",
        "\n"
      ],
      "metadata": {
        "colab": {
          "base_uri": "https://localhost:8080/"
        },
        "id": "-A9I0TwuKLZd",
        "outputId": "3bb1eef1-c81e-4826-a3fa-6859578437db"
      },
      "execution_count": 82,
      "outputs": [
        {
          "output_type": "execute_result",
          "data": {
            "text/plain": [
              "[b'my value',\n",
              " b'my value',\n",
              " b'new before last',\n",
              " b'new before last',\n",
              " b'new before last',\n",
              " b'new before last',\n",
              " b'new before last',\n",
              " b'new before last',\n",
              " b'new before last',\n",
              " b'new before last',\n",
              " b'new before last',\n",
              " b'new before last',\n",
              " b'new before last',\n",
              " b'new before last',\n",
              " b'new before last',\n",
              " b'last element']"
            ]
          },
          "metadata": {},
          "execution_count": 82
        }
      ]
    },
    {
      "cell_type": "markdown",
      "source": [
        "Notice that -1 refers to the tail of the list.\n",
        "\n",
        "```\n",
        "userid1         Alice     \n",
        "userid2         Bob    \n",
        "userid3         TomFoo35Paris     \n",
        "counter         3   \n",
        "userid1play     [blue, smile, one]      \n",
        "userid2play     [paradise, imagine]   \n",
        "\n",
        "```\n",
        "\n"
      ],
      "metadata": {
        "id": "HgxHimRBLFm7"
      }
    },
    {
      "cell_type": "markdown",
      "source": [
        "For each user we want to create a playlist.  Each playlist will be modeled as a Redis List where the key will be the concatenation of the key we associated to a user and the string <code>play</code>: <code>key of the user</code> + <code>play</code>."
      ],
      "metadata": {
        "id": "iWOBvmdULum6"
      }
    },
    {
      "cell_type": "markdown",
      "source": [
        "Create a list for the user <code>userid1</code> and add to this list four songs: <code>one</code>, <code>smile</code>, <code>hello</code>, and <code>blue</code>."
      ],
      "metadata": {
        "id": "Oz8fVeAyL6Mu"
      }
    },
    {
      "cell_type": "code",
      "source": [
        "r.rpush('userid1' + 'play', 'one')\n",
        "r.rpush('userid1' + 'play', 'smile')\n",
        "r.rpush('userid1' + 'play', 'hello')\n",
        "r.rpush('userid1' + 'play', 'blue')"
      ],
      "metadata": {
        "id": "bZkO-0ZgCVw4",
        "colab": {
          "base_uri": "https://localhost:8080/"
        },
        "outputId": "9fc2f6c9-641c-4412-92ca-4e1e1d11d67f"
      },
      "execution_count": 91,
      "outputs": [
        {
          "output_type": "execute_result",
          "data": {
            "text/plain": [
              "25"
            ]
          },
          "metadata": {},
          "execution_count": 91
        }
      ]
    },
    {
      "cell_type": "markdown",
      "source": [
        "Add one element to the head:"
      ],
      "metadata": {
        "id": "-m118jIhMHQW"
      }
    },
    {
      "cell_type": "code",
      "source": [
        "r.lpush('userid1' + 'play', 'first')"
      ],
      "metadata": {
        "id": "uhxJJdJTK5oX",
        "colab": {
          "base_uri": "https://localhost:8080/"
        },
        "outputId": "100080b2-211c-4030-b41f-3f5cb2b4322b"
      },
      "execution_count": 85,
      "outputs": [
        {
          "output_type": "execute_result",
          "data": {
            "text/plain": [
              "18"
            ]
          },
          "metadata": {},
          "execution_count": 85
        }
      ]
    },
    {
      "cell_type": "markdown",
      "source": [
        "Add two elements to the head:"
      ],
      "metadata": {
        "id": "CGq1kL7_MI7w"
      }
    },
    {
      "cell_type": "code",
      "source": [
        "r.lpush('userid1' + 'play', 'new first')\n",
        "r.lpush('userid1' + 'play', 'new new first')"
      ],
      "metadata": {
        "id": "sOknGb5_MLZF",
        "colab": {
          "base_uri": "https://localhost:8080/"
        },
        "outputId": "3475a24b-18f4-4c73-8f24-60312585f1e0"
      },
      "execution_count": 86,
      "outputs": [
        {
          "output_type": "execute_result",
          "data": {
            "text/plain": [
              "20"
            ]
          },
          "metadata": {},
          "execution_count": 86
        }
      ]
    },
    {
      "cell_type": "markdown",
      "source": [
        "Add an element to the tail:"
      ],
      "metadata": {
        "id": "1Q3epWDPMLz9"
      }
    },
    {
      "cell_type": "code",
      "source": [
        "r.rpush('userid1' + 'play', 'tail')"
      ],
      "metadata": {
        "id": "pUxrjZZtK3ww",
        "colab": {
          "base_uri": "https://localhost:8080/"
        },
        "outputId": "83a3ea24-f116-4f1b-e349-c16016850893"
      },
      "execution_count": 87,
      "outputs": [
        {
          "output_type": "execute_result",
          "data": {
            "text/plain": [
              "21"
            ]
          },
          "metadata": {},
          "execution_count": 87
        }
      ]
    },
    {
      "cell_type": "markdown",
      "source": [
        "Check the length of the playlist of the <code>userid1</code>."
      ],
      "metadata": {
        "id": "jdc-Y9OdMTUt"
      }
    },
    {
      "cell_type": "code",
      "source": [
        "len(r.lrange('userid1play',0,-1))"
      ],
      "metadata": {
        "id": "1wh9l-02MSZp",
        "colab": {
          "base_uri": "https://localhost:8080/"
        },
        "outputId": "968cbb38-f900-427e-f0c4-d08995bf2108"
      },
      "execution_count": 93,
      "outputs": [
        {
          "output_type": "execute_result",
          "data": {
            "text/plain": [
              "25"
            ]
          },
          "metadata": {},
          "execution_count": 93
        }
      ]
    },
    {
      "cell_type": "markdown",
      "source": [
        "Show all the elements in the list."
      ],
      "metadata": {
        "id": "AyF_vUOIMa5i"
      }
    },
    {
      "cell_type": "code",
      "source": [
        "r.lrange('userid1play',0,-1)"
      ],
      "metadata": {
        "colab": {
          "base_uri": "https://localhost:8080/"
        },
        "id": "3gST_py4F1Uj",
        "outputId": "0a5a62ff-5b56-45f2-fdd7-4d961a02fdef"
      },
      "execution_count": 94,
      "outputs": [
        {
          "output_type": "execute_result",
          "data": {
            "text/plain": [
              "[b'new new first',\n",
              " b'new first',\n",
              " b'first',\n",
              " b'truc',\n",
              " b'haha',\n",
              " b'blue',\n",
              " b'hello',\n",
              " b'smile',\n",
              " b'one',\n",
              " b'two',\n",
              " b'one',\n",
              " b'blue',\n",
              " b'hello',\n",
              " b'smile',\n",
              " b'one',\n",
              " b'tail!!1!!!11!',\n",
              " b'one',\n",
              " b'smile',\n",
              " b'hello',\n",
              " b'blue',\n",
              " b'tail',\n",
              " b'one',\n",
              " b'smile',\n",
              " b'hello',\n",
              " b'blue']"
            ]
          },
          "metadata": {},
          "execution_count": 94
        }
      ]
    },
    {
      "cell_type": "code",
      "source": [
        "r.rpop(\"userid1play\")"
      ],
      "metadata": {
        "id": "gkvHsiD8K2Uv",
        "colab": {
          "base_uri": "https://localhost:8080/"
        },
        "outputId": "635e30cb-08a3-4a0d-b1e6-55029d323fd9"
      },
      "execution_count": 95,
      "outputs": [
        {
          "output_type": "execute_result",
          "data": {
            "text/plain": [
              "b'blue'"
            ]
          },
          "metadata": {},
          "execution_count": 95
        }
      ]
    },
    {
      "cell_type": "markdown",
      "source": [
        "Return the head of the list."
      ],
      "metadata": {
        "id": "MpOj18_jMeo6"
      }
    },
    {
      "cell_type": "code",
      "source": [],
      "metadata": {
        "id": "vm2AoYtaF9Rr"
      },
      "execution_count": null,
      "outputs": []
    },
    {
      "cell_type": "markdown",
      "source": [
        "Return the tail of the list."
      ],
      "metadata": {
        "id": "sS6yYBnTMfy6"
      }
    },
    {
      "cell_type": "code",
      "source": [],
      "metadata": {
        "id": "6iyYdHLBMh7J"
      },
      "execution_count": null,
      "outputs": []
    },
    {
      "cell_type": "markdown",
      "source": [
        "Remove the element \\texttt{blue} from the list.\\"
      ],
      "metadata": {
        "id": "acbtt189Mixs"
      }
    }
  ]
}
